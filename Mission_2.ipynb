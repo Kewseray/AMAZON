{
 "cells": [
  {
   "cell_type": "code",
   "execution_count": 56,
   "metadata": {},
   "outputs": [],
   "source": [
    "import pandas as pd\n",
    "import numpy as np\n",
    "from sklearn.preprocessing import RobustScaler\n",
    "import matplotlib as plt\n",
    "import statistics as stat\n",
    "import seaborn as sb\n",
    "\n",
    "\n",
    "\n"
   ]
  },
  {
   "cell_type": "markdown",
   "metadata": {},
   "source": [
    "<div style=\"display: flex; background-color: RGB(72,209,204);\" >\n",
    "<h1 style=\"margin: auto; padding: 1px; \">Première partie</h1>\n",
    "</div>"
   ]
  },
  {
   "cell_type": "markdown",
   "metadata": {},
   "source": [
    "### Des indicateurs de tendance centrale et de dispersion"
   ]
  },
  {
   "cell_type": "code",
   "execution_count": 16,
   "metadata": {},
   "outputs": [
    {
     "name": "stdout",
     "output_type": "stream",
     "text": [
      "<class 'pandas.core.frame.DataFrame'>\n",
      "RangeIndex: 336713 entries, 0 to 336712\n",
      "Data columns (total 9 columns):\n",
      " #   Column      Non-Null Count   Dtype  \n",
      "---  ------      --------------   -----  \n",
      " 0   Unnamed: 0  336713 non-null  int64  \n",
      " 1   id_prod     336713 non-null  object \n",
      " 2   date        336713 non-null  object \n",
      " 3   session_id  336713 non-null  object \n",
      " 4   client_id   336713 non-null  object \n",
      " 5   price       336713 non-null  float64\n",
      " 6   categ       336713 non-null  int64  \n",
      " 7   sex         336713 non-null  object \n",
      " 8   birth       336713 non-null  int64  \n",
      "dtypes: float64(1), int64(3), object(5)\n",
      "memory usage: 23.1+ MB\n"
     ]
    }
   ],
   "source": [
    "data = pd.read_csv('final_data.csv')\n",
    "data.info()"
   ]
  },
  {
   "cell_type": "markdown",
   "metadata": {},
   "source": [
    "#### Indicateurs de tendance centrale"
   ]
  },
  {
   "cell_type": "code",
   "execution_count": 17,
   "metadata": {},
   "outputs": [],
   "source": [
    "#Pour avoir la même format que la colonne \"birth\"\n",
    "year=data.date.apply(lambda x: int(x[:4]))"
   ]
  },
  {
   "cell_type": "code",
   "execution_count": 18,
   "metadata": {},
   "outputs": [
    {
     "name": "stdout",
     "output_type": "stream",
     "text": [
      "<class 'pandas.core.frame.DataFrame'>\n",
      "RangeIndex: 336713 entries, 0 to 336712\n",
      "Data columns (total 10 columns):\n",
      " #   Column      Non-Null Count   Dtype  \n",
      "---  ------      --------------   -----  \n",
      " 0   Unnamed: 0  336713 non-null  int64  \n",
      " 1   id_prod     336713 non-null  object \n",
      " 2   date        336713 non-null  object \n",
      " 3   session_id  336713 non-null  object \n",
      " 4   client_id   336713 non-null  object \n",
      " 5   price       336713 non-null  float64\n",
      " 6   categ       336713 non-null  int64  \n",
      " 7   sex         336713 non-null  object \n",
      " 8   birth       336713 non-null  int64  \n",
      " 9   sale_year   336713 non-null  int64  \n",
      "dtypes: float64(1), int64(4), object(5)\n",
      "memory usage: 25.7+ MB\n"
     ]
    }
   ],
   "source": [
    "#Ajuter une colonne \"sale year\" utilisant data \"year\"\n",
    "data.insert(9, \"sale_year\", np.array(year))\n",
    "data.info()"
   ]
  },
  {
   "cell_type": "code",
   "execution_count": 20,
   "metadata": {},
   "outputs": [
    {
     "data": {
      "text/html": [
       "<div>\n",
       "<style scoped>\n",
       "    .dataframe tbody tr th:only-of-type {\n",
       "        vertical-align: middle;\n",
       "    }\n",
       "\n",
       "    .dataframe tbody tr th {\n",
       "        vertical-align: top;\n",
       "    }\n",
       "\n",
       "    .dataframe thead th {\n",
       "        text-align: right;\n",
       "    }\n",
       "</style>\n",
       "<table border=\"1\" class=\"dataframe\">\n",
       "  <thead>\n",
       "    <tr style=\"text-align: right;\">\n",
       "      <th></th>\n",
       "      <th>Unnamed: 0</th>\n",
       "      <th>id_prod</th>\n",
       "      <th>date</th>\n",
       "      <th>session_id</th>\n",
       "      <th>client_id</th>\n",
       "      <th>price</th>\n",
       "      <th>categ</th>\n",
       "      <th>sex</th>\n",
       "      <th>birth</th>\n",
       "      <th>sale_year</th>\n",
       "      <th>Age</th>\n",
       "    </tr>\n",
       "  </thead>\n",
       "  <tbody>\n",
       "    <tr>\n",
       "      <th>0</th>\n",
       "      <td>0</td>\n",
       "      <td>0_1483</td>\n",
       "      <td>2021-04-10 18:37:28.723910</td>\n",
       "      <td>s_18746</td>\n",
       "      <td>c_4450</td>\n",
       "      <td>4.99</td>\n",
       "      <td>0</td>\n",
       "      <td>f</td>\n",
       "      <td>1977</td>\n",
       "      <td>2021</td>\n",
       "      <td>44</td>\n",
       "    </tr>\n",
       "    <tr>\n",
       "      <th>1</th>\n",
       "      <td>1</td>\n",
       "      <td>0_1085</td>\n",
       "      <td>2021-09-29 11:14:59.793823</td>\n",
       "      <td>s_97382</td>\n",
       "      <td>c_4450</td>\n",
       "      <td>3.99</td>\n",
       "      <td>0</td>\n",
       "      <td>f</td>\n",
       "      <td>1977</td>\n",
       "      <td>2021</td>\n",
       "      <td>44</td>\n",
       "    </tr>\n",
       "    <tr>\n",
       "      <th>2</th>\n",
       "      <td>2</td>\n",
       "      <td>0_1453</td>\n",
       "      <td>2021-08-27 19:50:46.796939</td>\n",
       "      <td>s_81509</td>\n",
       "      <td>c_4450</td>\n",
       "      <td>7.99</td>\n",
       "      <td>0</td>\n",
       "      <td>f</td>\n",
       "      <td>1977</td>\n",
       "      <td>2021</td>\n",
       "      <td>44</td>\n",
       "    </tr>\n",
       "    <tr>\n",
       "      <th>3</th>\n",
       "      <td>3</td>\n",
       "      <td>0_1405</td>\n",
       "      <td>2021-08-27 20:07:25.878440</td>\n",
       "      <td>s_81509</td>\n",
       "      <td>c_4450</td>\n",
       "      <td>4.99</td>\n",
       "      <td>0</td>\n",
       "      <td>f</td>\n",
       "      <td>1977</td>\n",
       "      <td>2021</td>\n",
       "      <td>44</td>\n",
       "    </tr>\n",
       "    <tr>\n",
       "      <th>4</th>\n",
       "      <td>4</td>\n",
       "      <td>0_1392</td>\n",
       "      <td>2021-12-28 11:45:04.072281</td>\n",
       "      <td>s_141302</td>\n",
       "      <td>c_4450</td>\n",
       "      <td>6.30</td>\n",
       "      <td>0</td>\n",
       "      <td>f</td>\n",
       "      <td>1977</td>\n",
       "      <td>2021</td>\n",
       "      <td>44</td>\n",
       "    </tr>\n",
       "  </tbody>\n",
       "</table>\n",
       "</div>"
      ],
      "text/plain": [
       "   Unnamed: 0 id_prod                        date session_id client_id  price  \\\n",
       "0           0  0_1483  2021-04-10 18:37:28.723910    s_18746    c_4450   4.99   \n",
       "1           1  0_1085  2021-09-29 11:14:59.793823    s_97382    c_4450   3.99   \n",
       "2           2  0_1453  2021-08-27 19:50:46.796939    s_81509    c_4450   7.99   \n",
       "3           3  0_1405  2021-08-27 20:07:25.878440    s_81509    c_4450   4.99   \n",
       "4           4  0_1392  2021-12-28 11:45:04.072281   s_141302    c_4450   6.30   \n",
       "\n",
       "   categ sex  birth  sale_year  Age  \n",
       "0      0   f   1977       2021   44  \n",
       "1      0   f   1977       2021   44  \n",
       "2      0   f   1977       2021   44  \n",
       "3      0   f   1977       2021   44  \n",
       "4      0   f   1977       2021   44  "
      ]
     },
     "execution_count": 20,
     "metadata": {},
     "output_type": "execute_result"
    }
   ],
   "source": [
    "#Calculer l'âge du clients avec les colonnes associés\n",
    "data = data.assign(Age = lambda x: (x[\"sale_year\"] - x[\"birth\"]))\n",
    "data.head()\n"
   ]
  },
  {
   "cell_type": "markdown",
   "metadata": {},
   "source": [
    "#### La moyenne et la médiane"
   ]
  },
  {
   "cell_type": "code",
   "execution_count": 41,
   "metadata": {},
   "outputs": [
    {
     "name": "stdout",
     "output_type": "stream",
     "text": [
      "La moyenne de prix est: 17.21518851366\n",
      "La moyenne d'âge du clients est: 43.351260569089995\n"
     ]
    }
   ],
   "source": [
    "mean_price = stat.mean(data.price)\n",
    "print(\"La moyenne de prix est:\",mean_price)\n",
    "mean_age = stat.mean(data.Age)\n",
    "print(\"La moyenne d'âge du clients est:\",mean_age)"
   ]
  },
  {
   "cell_type": "code",
   "execution_count": 42,
   "metadata": {},
   "outputs": [
    {
     "name": "stdout",
     "output_type": "stream",
     "text": [
      "La médiane de prix est: 13.9\n",
      "La médiane d'âge du clients est: 42\n"
     ]
    }
   ],
   "source": [
    "median_price = stat.median(data.price)\n",
    "print(\"La médiane de prix est:\",median_price)\n",
    "median_age = stat.median(data.Age)\n",
    "print(\"La médiane d'âge du clients est:\",median_age)"
   ]
  },
  {
   "cell_type": "markdown",
   "metadata": {},
   "source": [
    "#### La dispersion\n"
   ]
  },
  {
   "cell_type": "code",
   "execution_count": 53,
   "metadata": {},
   "outputs": [
    {
     "name": "stdout",
     "output_type": "stream",
     "text": [
      "La dipersion pour les colonnes de prix sont:  318.816929634403 et 17.855445377654487\n",
      "La dipersion pour les colonnes de l'âge sont:  183.13164071209653 et 13.532613964496901\n"
     ]
    }
   ],
   "source": [
    "vari_prix = stat.variance(data.price)\n",
    "vari_age = stat.variance(data.Age)\n",
    "ecar_prix = stat.stdev(data.price)\n",
    "ecar_age = stat.stdev(data.Age)\n",
    "print(\"La dipersion pour les colonnes de prix sont: \",vari_prix,\"et\",ecar_prix)\n",
    "print(\"La dipersion pour les colonnes de l'âge sont: \",vari_age,\"et\",ecar_age)    "
   ]
  },
  {
   "cell_type": "markdown",
   "metadata": {},
   "source": [
    "<div style=\"display: flex; background-color: RGB(72,209,204);\" >\n",
    "<h1 style=\"margin: auto; padding: 1px; \">Deuxième partie</h1>\n",
    "</div>"
   ]
  },
  {
   "cell_type": "markdown",
   "metadata": {},
   "source": [
    "### Des représentations graphiques "
   ]
  },
  {
   "cell_type": "markdown",
   "metadata": {},
   "source": [
    "#### Un histogramme"
   ]
  },
  {
   "cell_type": "code",
   "execution_count": 62,
   "metadata": {},
   "outputs": [
    {
     "data": {
      "text/plain": [
       "<AxesSubplot:xlabel='Age', ylabel='Count'>"
      ]
     },
     "execution_count": 62,
     "metadata": {},
     "output_type": "execute_result"
    },
    {
     "data": {
      "image/png": "[encoded data removed]",
      "text/plain": [
       "<Figure size 640x480 with 1 Axes>"
      ]
     },
     "metadata": {},
     "output_type": "display_data"
    }
   ],
   "source": [
    "sb.histplot(data=data,x=\"Age\")"
   ]
  },
  {
   "cell_type": "markdown",
   "metadata": {},
   "source": [
    "#### Boîtes à moustaches"
   ]
  },
  {
   "cell_type": "code",
   "execution_count": 67,
   "metadata": {},
   "outputs": [
    {
     "data": {
      "text/plain": [
       "<AxesSubplot:>"
      ]
     },
     "execution_count": 67,
     "metadata": {},
     "output_type": "execute_result"
    },
    {
     "data": {
      "image/png": "[encoded data removed]",
      "text/plain": [
       "<Figure size 640x480 with 1 Axes>"
      ]
     },
     "metadata": {},
     "output_type": "display_data"
    }
   ],
   "source": [
    "data[['price']].boxplot()"
   ]
  },
  {
   "cell_type": "markdown",
   "metadata": {},
   "source": [
    "#### La représentation de série temporelle \n",
    "#### Un graphique dont l’axe des abscisses représente des dates"
   ]
  },
  {
   "cell_type": "code",
   "execution_count": 76,
   "metadata": {},
   "outputs": [
    {
     "data": {
      "text/html": [
       "<div>\n",
       "<style scoped>\n",
       "    .dataframe tbody tr th:only-of-type {\n",
       "        vertical-align: middle;\n",
       "    }\n",
       "\n",
       "    .dataframe tbody tr th {\n",
       "        vertical-align: top;\n",
       "    }\n",
       "\n",
       "    .dataframe thead th {\n",
       "        text-align: right;\n",
       "    }\n",
       "</style>\n",
       "<table border=\"1\" class=\"dataframe\">\n",
       "  <thead>\n",
       "    <tr style=\"text-align: right;\">\n",
       "      <th></th>\n",
       "      <th>Unnamed: 0</th>\n",
       "      <th>id_prod</th>\n",
       "      <th>date</th>\n",
       "      <th>session_id</th>\n",
       "      <th>client_id</th>\n",
       "      <th>price</th>\n",
       "      <th>categ</th>\n",
       "      <th>sex</th>\n",
       "      <th>birth</th>\n",
       "      <th>sale_year</th>\n",
       "      <th>Age</th>\n",
       "    </tr>\n",
       "  </thead>\n",
       "  <tbody>\n",
       "    <tr>\n",
       "      <th>0</th>\n",
       "      <td>0</td>\n",
       "      <td>0_1483</td>\n",
       "      <td>2021-04-10 18:37:28.723910</td>\n",
       "      <td>s_18746</td>\n",
       "      <td>c_4450</td>\n",
       "      <td>4.99</td>\n",
       "      <td>0</td>\n",
       "      <td>f</td>\n",
       "      <td>1977</td>\n",
       "      <td>2021</td>\n",
       "      <td>44</td>\n",
       "    </tr>\n",
       "    <tr>\n",
       "      <th>100</th>\n",
       "      <td>100</td>\n",
       "      <td>0_1483</td>\n",
       "      <td>2021-10-18 19:16:14.767807</td>\n",
       "      <td>s_106741</td>\n",
       "      <td>c_1576</td>\n",
       "      <td>4.99</td>\n",
       "      <td>0</td>\n",
       "      <td>m</td>\n",
       "      <td>1956</td>\n",
       "      <td>2021</td>\n",
       "      <td>65</td>\n",
       "    </tr>\n",
       "    <tr>\n",
       "      <th>150</th>\n",
       "      <td>150</td>\n",
       "      <td>0_1483</td>\n",
       "      <td>2021-11-14 11:11:45.276771</td>\n",
       "      <td>s_119491</td>\n",
       "      <td>c_182</td>\n",
       "      <td>4.99</td>\n",
       "      <td>0</td>\n",
       "      <td>f</td>\n",
       "      <td>1984</td>\n",
       "      <td>2021</td>\n",
       "      <td>37</td>\n",
       "    </tr>\n",
       "    <tr>\n",
       "      <th>292</th>\n",
       "      <td>292</td>\n",
       "      <td>0_1483</td>\n",
       "      <td>2021-07-30 19:37:16.087057</td>\n",
       "      <td>s_69222</td>\n",
       "      <td>c_1196</td>\n",
       "      <td>4.99</td>\n",
       "      <td>0</td>\n",
       "      <td>m</td>\n",
       "      <td>1980</td>\n",
       "      <td>2021</td>\n",
       "      <td>41</td>\n",
       "    </tr>\n",
       "    <tr>\n",
       "      <th>293</th>\n",
       "      <td>293</td>\n",
       "      <td>0_1483</td>\n",
       "      <td>2021-05-30 10:39:02.236667</td>\n",
       "      <td>s_41614</td>\n",
       "      <td>c_1196</td>\n",
       "      <td>4.99</td>\n",
       "      <td>0</td>\n",
       "      <td>m</td>\n",
       "      <td>1980</td>\n",
       "      <td>2021</td>\n",
       "      <td>41</td>\n",
       "    </tr>\n",
       "    <tr>\n",
       "      <th>...</th>\n",
       "      <td>...</td>\n",
       "      <td>...</td>\n",
       "      <td>...</td>\n",
       "      <td>...</td>\n",
       "      <td>...</td>\n",
       "      <td>...</td>\n",
       "      <td>...</td>\n",
       "      <td>...</td>\n",
       "      <td>...</td>\n",
       "      <td>...</td>\n",
       "      <td>...</td>\n",
       "    </tr>\n",
       "    <tr>\n",
       "      <th>46482</th>\n",
       "      <td>46482</td>\n",
       "      <td>0_1483</td>\n",
       "      <td>2021-12-28 22:56:07.963150</td>\n",
       "      <td>s_141546</td>\n",
       "      <td>c_2376</td>\n",
       "      <td>4.99</td>\n",
       "      <td>0</td>\n",
       "      <td>m</td>\n",
       "      <td>1977</td>\n",
       "      <td>2021</td>\n",
       "      <td>44</td>\n",
       "    </tr>\n",
       "    <tr>\n",
       "      <th>46563</th>\n",
       "      <td>46563</td>\n",
       "      <td>0_1483</td>\n",
       "      <td>2021-05-31 21:05:14.295242</td>\n",
       "      <td>s_42271</td>\n",
       "      <td>c_7575</td>\n",
       "      <td>4.99</td>\n",
       "      <td>0</td>\n",
       "      <td>m</td>\n",
       "      <td>1973</td>\n",
       "      <td>2021</td>\n",
       "      <td>48</td>\n",
       "    </tr>\n",
       "    <tr>\n",
       "      <th>46594</th>\n",
       "      <td>46594</td>\n",
       "      <td>0_1483</td>\n",
       "      <td>2022-01-15 21:41:03.486784</td>\n",
       "      <td>s_150358</td>\n",
       "      <td>c_6007</td>\n",
       "      <td>4.99</td>\n",
       "      <td>0</td>\n",
       "      <td>f</td>\n",
       "      <td>1972</td>\n",
       "      <td>2022</td>\n",
       "      <td>50</td>\n",
       "    </tr>\n",
       "    <tr>\n",
       "      <th>46739</th>\n",
       "      <td>46739</td>\n",
       "      <td>0_1483</td>\n",
       "      <td>2021-08-02 00:12:19.600912</td>\n",
       "      <td>s_70167</td>\n",
       "      <td>c_2308</td>\n",
       "      <td>4.99</td>\n",
       "      <td>0</td>\n",
       "      <td>m</td>\n",
       "      <td>1984</td>\n",
       "      <td>2021</td>\n",
       "      <td>37</td>\n",
       "    </tr>\n",
       "    <tr>\n",
       "      <th>46873</th>\n",
       "      <td>46873</td>\n",
       "      <td>0_1483</td>\n",
       "      <td>2022-02-19 20:55:08.842558</td>\n",
       "      <td>s_167786</td>\n",
       "      <td>c_3584</td>\n",
       "      <td>4.99</td>\n",
       "      <td>0</td>\n",
       "      <td>f</td>\n",
       "      <td>1981</td>\n",
       "      <td>2022</td>\n",
       "      <td>41</td>\n",
       "    </tr>\n",
       "  </tbody>\n",
       "</table>\n",
       "<p>403 rows × 11 columns</p>\n",
       "</div>"
      ],
      "text/plain": [
       "       Unnamed: 0 id_prod                        date session_id client_id  \\\n",
       "0               0  0_1483  2021-04-10 18:37:28.723910    s_18746    c_4450   \n",
       "100           100  0_1483  2021-10-18 19:16:14.767807   s_106741    c_1576   \n",
       "150           150  0_1483  2021-11-14 11:11:45.276771   s_119491     c_182   \n",
       "292           292  0_1483  2021-07-30 19:37:16.087057    s_69222    c_1196   \n",
       "293           293  0_1483  2021-05-30 10:39:02.236667    s_41614    c_1196   \n",
       "...           ...     ...                         ...        ...       ...   \n",
       "46482       46482  0_1483  2021-12-28 22:56:07.963150   s_141546    c_2376   \n",
       "46563       46563  0_1483  2021-05-31 21:05:14.295242    s_42271    c_7575   \n",
       "46594       46594  0_1483  2022-01-15 21:41:03.486784   s_150358    c_6007   \n",
       "46739       46739  0_1483  2021-08-02 00:12:19.600912    s_70167    c_2308   \n",
       "46873       46873  0_1483  2022-02-19 20:55:08.842558   s_167786    c_3584   \n",
       "\n",
       "       price  categ sex  birth  sale_year  Age  \n",
       "0       4.99      0   f   1977       2021   44  \n",
       "100     4.99      0   m   1956       2021   65  \n",
       "150     4.99      0   f   1984       2021   37  \n",
       "292     4.99      0   m   1980       2021   41  \n",
       "293     4.99      0   m   1980       2021   41  \n",
       "...      ...    ...  ..    ...        ...  ...  \n",
       "46482   4.99      0   m   1977       2021   44  \n",
       "46563   4.99      0   m   1973       2021   48  \n",
       "46594   4.99      0   f   1972       2022   50  \n",
       "46739   4.99      0   m   1984       2021   37  \n",
       "46873   4.99      0   f   1981       2022   41  \n",
       "\n",
       "[403 rows x 11 columns]"
      ]
     },
     "execution_count": 76,
     "metadata": {},
     "output_type": "execute_result"
    }
   ],
   "source": [
    "id_prod=data[data[\"id_prod\"]=='0_1483']\n",
    "id_prod\n"
   ]
  },
  {
   "cell_type": "code",
   "execution_count": 73,
   "metadata": {},
   "outputs": [
    {
     "data": {
      "text/plain": [
       "<AxesSubplot:xlabel='sale_year', ylabel='Count'>"
      ]
     },
     "execution_count": 73,
     "metadata": {},
     "output_type": "execute_result"
    },
    {
     "data": {
      "image/png": "[encoded data removed]",
      "text/plain": [
       "<Figure size 640x480 with 1 Axes>"
      ]
     },
     "metadata": {},
     "output_type": "display_data"
    }
   ],
   "source": [
    "sb.histplot(data=id_prod, x='sale_year', hue='sex')"
   ]
  },
  {
   "cell_type": "code",
   "execution_count": null,
   "metadata": {},
   "outputs": [],
   "source": []
  }
 ],
 "metadata": {
  "kernelspec": {
   "display_name": "Python 3.9.12 ('base')",
   "language": "python",
   "name": "python3"
  },
  "language_info": {
   "codemirror_mode": {
    "name": "ipython",
    "version": 3
   },
   "file_extension": ".py",
   "mimetype": "text/x-python",
   "name": "python",
   "nbconvert_exporter": "python",
   "pygments_lexer": "ipython3",
   "version": "3.9.12"
  },
  "orig_nbformat": 4,
  "vscode": {
   "interpreter": {
    "hash": "cce956dd8b59511f520788cd9362dddc117670ac5ef39c9ede8ba85a43b854a0"
   }
  }
 },
 "nbformat": 4,
 "nbformat_minor": 2
}
